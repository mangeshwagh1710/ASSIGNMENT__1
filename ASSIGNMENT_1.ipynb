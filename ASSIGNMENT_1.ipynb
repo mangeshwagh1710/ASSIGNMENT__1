{
 "cells": [
  {
   "cell_type": "code",
   "execution_count": 4,
   "id": "359b6c84",
   "metadata": {},
   "outputs": [
    {
     "name": "stdout",
     "output_type": "stream",
     "text": [
      "1\n",
      "1\n",
      "2\n",
      "3\n",
      "5\n",
      "8\n",
      "13\n",
      "21\n",
      "34\n"
     ]
    }
   ],
   "source": [
    "https://github.com/mangeshwagh1710/ASSIGNMENT__1\n",
    "\n",
    "# 1.A programme to get the fibonacci series between 0 to 50\n",
    "\n",
    "x,y=0,1\n",
    "\n",
    "while y<50:\n",
    "    print(y)\n",
    "    x,y=y,x+y"
   ]
  },
  {
   "cell_type": "code",
   "execution_count": 16,
   "id": "59da7c05",
   "metadata": {},
   "outputs": [
    {
     "name": "stdout",
     "output_type": "stream",
     "text": [
      "Input a word to reverse:USA\n",
      "A S U \n",
      "\n"
     ]
    }
   ],
   "source": [
    "#2. A programme that accepts a word from the user and reverse it.\n",
    "word=input(\"Input a word to reverse:\")\n",
    "for char in range(len(word)-1,-1,-1):\n",
    "    print(word[char], end=\" \")\n",
    "print(\"\\n\")"
   ]
  },
  {
   "cell_type": "code",
   "execution_count": 3,
   "id": "4ee02092",
   "metadata": {},
   "outputs": [
    {
     "name": "stdout",
     "output_type": "stream",
     "text": [
      "Number of even number: 4\n",
      "Number of odd number: 5\n"
     ]
    }
   ],
   "source": [
    "#3.A programme to count the number of even and odd numbers from a series of a number\n",
    "list1=[1,2,3,4,5,6,7,8,9]\n",
    "even_count,odd_count =0,0\n",
    "\n",
    "for num in list1:\n",
    "    if num%2 ==0:\n",
    "        even_count +=1\n",
    "    else:\n",
    "        odd_count +=1\n",
    "print(\"Number of even number:\",even_count)\n",
    "print(\"Number of odd number:\",odd_count)\n",
    "\n",
    "\n"
   ]
  },
  {
   "cell_type": "code",
   "execution_count": null,
   "id": "dac6166a",
   "metadata": {},
   "outputs": [],
   "source": []
  },
  {
   "cell_type": "code",
   "execution_count": null,
   "id": "8dfe7931",
   "metadata": {},
   "outputs": [],
   "source": []
  },
  {
   "cell_type": "code",
   "execution_count": null,
   "id": "7ecdf27e",
   "metadata": {},
   "outputs": [],
   "source": []
  }
 ],
 "metadata": {
  "kernelspec": {
   "display_name": "Python 3 (ipykernel)",
   "language": "python",
   "name": "python3"
  },
  "language_info": {
   "codemirror_mode": {
    "name": "ipython",
    "version": 3
   },
   "file_extension": ".py",
   "mimetype": "text/x-python",
   "name": "python",
   "nbconvert_exporter": "python",
   "pygments_lexer": "ipython3",
   "version": "3.9.13"
  }
 },
 "nbformat": 4,
 "nbformat_minor": 5
}
